{
  "nbformat": 4,
  "nbformat_minor": 0,
  "metadata": {
    "colab": {
      "provenance": [],
      "mount_file_id": "1SpYjhrCKMPkQlov_A56fjDMoyLanRK-V",
      "authorship_tag": "ABX9TyPgg2ChcoY+J3GlIWtPHFGW",
      "include_colab_link": true
    },
    "kernelspec": {
      "name": "python3",
      "display_name": "Python 3"
    },
    "language_info": {
      "name": "python"
    }
  },
  "cells": [
    {
      "cell_type": "markdown",
      "metadata": {
        "id": "view-in-github",
        "colab_type": "text"
      },
      "source": [
        "<a href=\"https://colab.research.google.com/github/wulanika/TugasUasMachineLearning/blob/main/revisi.ipynb\" target=\"_parent\"><img src=\"https://colab.research.google.com/assets/colab-badge.svg\" alt=\"Open In Colab\"/></a>"
      ]
    },
    {
      "cell_type": "code",
      "execution_count": 1,
      "metadata": {
        "colab": {
          "base_uri": "https://localhost:8080/"
        },
        "id": "XBO7Rlsqj9L8",
        "outputId": "c9396c5b-6dcd-4832-87f9-c67374a7b250"
      },
      "outputs": [
        {
          "output_type": "stream",
          "name": "stdout",
          "text": [
            "Mounted at /content/drive\n"
          ]
        }
      ],
      "source": [
        "from google.colab import drive\n",
        "drive.mount('/content/drive')"
      ]
    },
    {
      "cell_type": "code",
      "source": [
        "import matplotlib.pyplot as plt\n",
        "import pandas as pd\n",
        "from sklearn.model_selection import train_test_split, GridSearchCV\n",
        "from sklearn.feature_extraction.text import TfidfVectorizer\n",
        "from sklearn.naive_bayes import MultinomialNB\n",
        "from sklearn.metrics import classification_report, precision_score, confusion_matrix, roc_curve, auc\n",
        "from imblearn.over_sampling import SMOTE\n",
        "import nltk\n",
        "import re\n",
        "from nltk.corpus import stopwords\n",
        "from nltk import word_tokenize\n",
        "from nltk.stem import PorterStemmer\n"
      ],
      "metadata": {
        "id": "spoEG_O3n_Rb"
      },
      "execution_count": 2,
      "outputs": []
    },
    {
      "cell_type": "code",
      "source": [
        "nltk.download('stopwords')\n",
        "nltk.download('punkt')"
      ],
      "metadata": {
        "colab": {
          "base_uri": "https://localhost:8080/"
        },
        "id": "cTgaY70aoAfa",
        "outputId": "8b840b6a-0e84-42d7-c468-f79e17974be8"
      },
      "execution_count": 3,
      "outputs": [
        {
          "output_type": "stream",
          "name": "stderr",
          "text": [
            "[nltk_data] Downloading package stopwords to /root/nltk_data...\n",
            "[nltk_data]   Unzipping corpora/stopwords.zip.\n",
            "[nltk_data] Downloading package punkt to /root/nltk_data...\n",
            "[nltk_data]   Unzipping tokenizers/punkt.zip.\n"
          ]
        },
        {
          "output_type": "execute_result",
          "data": {
            "text/plain": [
              "True"
            ]
          },
          "metadata": {},
          "execution_count": 3
        }
      ]
    },
    {
      "cell_type": "code",
      "source": [
        "df = pd.read_csv('/content/drive/MyDrive/dataset/Ulta Skincare Reviews.csv')"
      ],
      "metadata": {
        "id": "w2pTvdGRoDdu"
      },
      "execution_count": 4,
      "outputs": []
    },
    {
      "cell_type": "code",
      "source": [
        "df = df.dropna(subset=['Review_Text'])"
      ],
      "metadata": {
        "id": "QDhyk22moP2w"
      },
      "execution_count": 19,
      "outputs": []
    },
    {
      "cell_type": "code",
      "source": [
        "df.dropna()"
      ],
      "metadata": {
        "colab": {
          "base_uri": "https://localhost:8080/",
          "height": 1000
        },
        "id": "QhLXaHcYqLy3",
        "outputId": "5b266304-9531-4916-f7a2-325311288965"
      },
      "execution_count": 20,
      "outputs": [
        {
          "output_type": "execute_result",
          "data": {
            "text/plain": [
              "                                           Review_Title  \\\n",
              "0                                               Perfect   \n",
              "1                                         You need this   \n",
              "2                                            Clean skin   \n",
              "3                                      Love This Stuff!   \n",
              "4                       This exfoliates very nicely and   \n",
              "...                                                 ...   \n",
              "4145                     I would buy this product again   \n",
              "4146        Gentle exfoliant- leaves skin smooth & soft   \n",
              "4147  One of my favorite skincare products of all time.   \n",
              "4148                                            Ehhh...   \n",
              "4149                                This is the best!!!   \n",
              "\n",
              "                                            Review_Text Verified_Buyer  \\\n",
              "0       love use face shower heat give light scrub nice             No   \n",
              "1     even better daili microfoli obsess skin much s...             No   \n",
              "2     enjoy product much look forward use realli fee...             No   \n",
              "3     never tri anyth like love appli face get littl...             No   \n",
              "4     exfoli nice give smooth skin irrit reaction sk...             No   \n",
              "...                                                 ...            ...   \n",
              "4145                          much better product scrub            Yes   \n",
              "4146  use exfoli month depend condit skin use anywhe...             No   \n",
              "4147                       skin look better 10 year ago            Yes   \n",
              "4148  product useless known exfoli use daili would g...            Yes   \n",
              "4149  product amaz thing help dri patch cheek also c...            Yes   \n",
              "\n",
              "       Review_Date   Review_Location  Review_Upvotes  Review_Downvotes  \\\n",
              "0      15 days ago       Undisclosed               0                 0   \n",
              "1      27 days ago       Undisclosed               0                 0   \n",
              "2     2 months ago       Undisclosed               0                 0   \n",
              "3     2 months ago       Undisclosed               0                 0   \n",
              "4     2 months ago       Undisclosed               0                 0   \n",
              "...            ...               ...             ...               ...   \n",
              "4145   7 years ago  vernon hills, il               0                 1   \n",
              "4146   7 years ago      Humboldt, CA               1                 0   \n",
              "4147   7 years ago   Albuquerque, NM               2                 1   \n",
              "4148   7 years ago      Fayetteville               1                 1   \n",
              "4149   7 years ago       Mississippi               1                 1   \n",
              "\n",
              "                          Product        Brand Scrape_Date   score  sentiment  \n",
              "0     Multi-Vitamin Thermafoliant  Dermalogica     3/27/23  0.7906          1  \n",
              "1     Multi-Vitamin Thermafoliant  Dermalogica     3/27/23  0.2263          1  \n",
              "2     Multi-Vitamin Thermafoliant  Dermalogica     3/27/23  0.8074          1  \n",
              "3     Multi-Vitamin Thermafoliant  Dermalogica     3/27/23  0.7839          1  \n",
              "4     Multi-Vitamin Thermafoliant  Dermalogica     3/27/23  0.6486          1  \n",
              "...                           ...          ...         ...     ...        ...  \n",
              "4145           Daily Microfoliant  Dermalogica     3/27/23  0.4404          1  \n",
              "4146           Daily Microfoliant  Dermalogica     3/27/23  0.5100          1  \n",
              "4147           Daily Microfoliant  Dermalogica     3/27/23  0.4404          1  \n",
              "4148           Daily Microfoliant  Dermalogica     3/27/23  0.1027          1  \n",
              "4149           Daily Microfoliant  Dermalogica     3/27/23  0.6597          1  \n",
              "\n",
              "[4146 rows x 12 columns]"
            ],
            "text/html": [
              "\n",
              "  <div id=\"df-d552de94-8b0e-4ab9-98af-fd932558f663\" class=\"colab-df-container\">\n",
              "    <div>\n",
              "<style scoped>\n",
              "    .dataframe tbody tr th:only-of-type {\n",
              "        vertical-align: middle;\n",
              "    }\n",
              "\n",
              "    .dataframe tbody tr th {\n",
              "        vertical-align: top;\n",
              "    }\n",
              "\n",
              "    .dataframe thead th {\n",
              "        text-align: right;\n",
              "    }\n",
              "</style>\n",
              "<table border=\"1\" class=\"dataframe\">\n",
              "  <thead>\n",
              "    <tr style=\"text-align: right;\">\n",
              "      <th></th>\n",
              "      <th>Review_Title</th>\n",
              "      <th>Review_Text</th>\n",
              "      <th>Verified_Buyer</th>\n",
              "      <th>Review_Date</th>\n",
              "      <th>Review_Location</th>\n",
              "      <th>Review_Upvotes</th>\n",
              "      <th>Review_Downvotes</th>\n",
              "      <th>Product</th>\n",
              "      <th>Brand</th>\n",
              "      <th>Scrape_Date</th>\n",
              "      <th>score</th>\n",
              "      <th>sentiment</th>\n",
              "    </tr>\n",
              "  </thead>\n",
              "  <tbody>\n",
              "    <tr>\n",
              "      <th>0</th>\n",
              "      <td>Perfect</td>\n",
              "      <td>love use face shower heat give light scrub nice</td>\n",
              "      <td>No</td>\n",
              "      <td>15 days ago</td>\n",
              "      <td>Undisclosed</td>\n",
              "      <td>0</td>\n",
              "      <td>0</td>\n",
              "      <td>Multi-Vitamin Thermafoliant</td>\n",
              "      <td>Dermalogica</td>\n",
              "      <td>3/27/23</td>\n",
              "      <td>0.7906</td>\n",
              "      <td>1</td>\n",
              "    </tr>\n",
              "    <tr>\n",
              "      <th>1</th>\n",
              "      <td>You need this</td>\n",
              "      <td>even better daili microfoli obsess skin much s...</td>\n",
              "      <td>No</td>\n",
              "      <td>27 days ago</td>\n",
              "      <td>Undisclosed</td>\n",
              "      <td>0</td>\n",
              "      <td>0</td>\n",
              "      <td>Multi-Vitamin Thermafoliant</td>\n",
              "      <td>Dermalogica</td>\n",
              "      <td>3/27/23</td>\n",
              "      <td>0.2263</td>\n",
              "      <td>1</td>\n",
              "    </tr>\n",
              "    <tr>\n",
              "      <th>2</th>\n",
              "      <td>Clean skin</td>\n",
              "      <td>enjoy product much look forward use realli fee...</td>\n",
              "      <td>No</td>\n",
              "      <td>2 months ago</td>\n",
              "      <td>Undisclosed</td>\n",
              "      <td>0</td>\n",
              "      <td>0</td>\n",
              "      <td>Multi-Vitamin Thermafoliant</td>\n",
              "      <td>Dermalogica</td>\n",
              "      <td>3/27/23</td>\n",
              "      <td>0.8074</td>\n",
              "      <td>1</td>\n",
              "    </tr>\n",
              "    <tr>\n",
              "      <th>3</th>\n",
              "      <td>Love This Stuff!</td>\n",
              "      <td>never tri anyth like love appli face get littl...</td>\n",
              "      <td>No</td>\n",
              "      <td>2 months ago</td>\n",
              "      <td>Undisclosed</td>\n",
              "      <td>0</td>\n",
              "      <td>0</td>\n",
              "      <td>Multi-Vitamin Thermafoliant</td>\n",
              "      <td>Dermalogica</td>\n",
              "      <td>3/27/23</td>\n",
              "      <td>0.7839</td>\n",
              "      <td>1</td>\n",
              "    </tr>\n",
              "    <tr>\n",
              "      <th>4</th>\n",
              "      <td>This exfoliates very nicely and</td>\n",
              "      <td>exfoli nice give smooth skin irrit reaction sk...</td>\n",
              "      <td>No</td>\n",
              "      <td>2 months ago</td>\n",
              "      <td>Undisclosed</td>\n",
              "      <td>0</td>\n",
              "      <td>0</td>\n",
              "      <td>Multi-Vitamin Thermafoliant</td>\n",
              "      <td>Dermalogica</td>\n",
              "      <td>3/27/23</td>\n",
              "      <td>0.6486</td>\n",
              "      <td>1</td>\n",
              "    </tr>\n",
              "    <tr>\n",
              "      <th>...</th>\n",
              "      <td>...</td>\n",
              "      <td>...</td>\n",
              "      <td>...</td>\n",
              "      <td>...</td>\n",
              "      <td>...</td>\n",
              "      <td>...</td>\n",
              "      <td>...</td>\n",
              "      <td>...</td>\n",
              "      <td>...</td>\n",
              "      <td>...</td>\n",
              "      <td>...</td>\n",
              "      <td>...</td>\n",
              "    </tr>\n",
              "    <tr>\n",
              "      <th>4145</th>\n",
              "      <td>I would buy this product again</td>\n",
              "      <td>much better product scrub</td>\n",
              "      <td>Yes</td>\n",
              "      <td>7 years ago</td>\n",
              "      <td>vernon hills, il</td>\n",
              "      <td>0</td>\n",
              "      <td>1</td>\n",
              "      <td>Daily Microfoliant</td>\n",
              "      <td>Dermalogica</td>\n",
              "      <td>3/27/23</td>\n",
              "      <td>0.4404</td>\n",
              "      <td>1</td>\n",
              "    </tr>\n",
              "    <tr>\n",
              "      <th>4146</th>\n",
              "      <td>Gentle exfoliant- leaves skin smooth &amp; soft</td>\n",
              "      <td>use exfoli month depend condit skin use anywhe...</td>\n",
              "      <td>No</td>\n",
              "      <td>7 years ago</td>\n",
              "      <td>Humboldt, CA</td>\n",
              "      <td>1</td>\n",
              "      <td>0</td>\n",
              "      <td>Daily Microfoliant</td>\n",
              "      <td>Dermalogica</td>\n",
              "      <td>3/27/23</td>\n",
              "      <td>0.5100</td>\n",
              "      <td>1</td>\n",
              "    </tr>\n",
              "    <tr>\n",
              "      <th>4147</th>\n",
              "      <td>One of my favorite skincare products of all time.</td>\n",
              "      <td>skin look better 10 year ago</td>\n",
              "      <td>Yes</td>\n",
              "      <td>7 years ago</td>\n",
              "      <td>Albuquerque, NM</td>\n",
              "      <td>2</td>\n",
              "      <td>1</td>\n",
              "      <td>Daily Microfoliant</td>\n",
              "      <td>Dermalogica</td>\n",
              "      <td>3/27/23</td>\n",
              "      <td>0.4404</td>\n",
              "      <td>1</td>\n",
              "    </tr>\n",
              "    <tr>\n",
              "      <th>4148</th>\n",
              "      <td>Ehhh...</td>\n",
              "      <td>product useless known exfoli use daili would g...</td>\n",
              "      <td>Yes</td>\n",
              "      <td>7 years ago</td>\n",
              "      <td>Fayetteville</td>\n",
              "      <td>1</td>\n",
              "      <td>1</td>\n",
              "      <td>Daily Microfoliant</td>\n",
              "      <td>Dermalogica</td>\n",
              "      <td>3/27/23</td>\n",
              "      <td>0.1027</td>\n",
              "      <td>1</td>\n",
              "    </tr>\n",
              "    <tr>\n",
              "      <th>4149</th>\n",
              "      <td>This is the best!!!</td>\n",
              "      <td>product amaz thing help dri patch cheek also c...</td>\n",
              "      <td>Yes</td>\n",
              "      <td>7 years ago</td>\n",
              "      <td>Mississippi</td>\n",
              "      <td>1</td>\n",
              "      <td>1</td>\n",
              "      <td>Daily Microfoliant</td>\n",
              "      <td>Dermalogica</td>\n",
              "      <td>3/27/23</td>\n",
              "      <td>0.6597</td>\n",
              "      <td>1</td>\n",
              "    </tr>\n",
              "  </tbody>\n",
              "</table>\n",
              "<p>4146 rows × 12 columns</p>\n",
              "</div>\n",
              "    <div class=\"colab-df-buttons\">\n",
              "\n",
              "  <div class=\"colab-df-container\">\n",
              "    <button class=\"colab-df-convert\" onclick=\"convertToInteractive('df-d552de94-8b0e-4ab9-98af-fd932558f663')\"\n",
              "            title=\"Convert this dataframe to an interactive table.\"\n",
              "            style=\"display:none;\">\n",
              "\n",
              "  <svg xmlns=\"http://www.w3.org/2000/svg\" height=\"24px\" viewBox=\"0 -960 960 960\">\n",
              "    <path d=\"M120-120v-720h720v720H120Zm60-500h600v-160H180v160Zm220 220h160v-160H400v160Zm0 220h160v-160H400v160ZM180-400h160v-160H180v160Zm440 0h160v-160H620v160ZM180-180h160v-160H180v160Zm440 0h160v-160H620v160Z\"/>\n",
              "  </svg>\n",
              "    </button>\n",
              "\n",
              "  <style>\n",
              "    .colab-df-container {\n",
              "      display:flex;\n",
              "      gap: 12px;\n",
              "    }\n",
              "\n",
              "    .colab-df-convert {\n",
              "      background-color: #E8F0FE;\n",
              "      border: none;\n",
              "      border-radius: 50%;\n",
              "      cursor: pointer;\n",
              "      display: none;\n",
              "      fill: #1967D2;\n",
              "      height: 32px;\n",
              "      padding: 0 0 0 0;\n",
              "      width: 32px;\n",
              "    }\n",
              "\n",
              "    .colab-df-convert:hover {\n",
              "      background-color: #E2EBFA;\n",
              "      box-shadow: 0px 1px 2px rgba(60, 64, 67, 0.3), 0px 1px 3px 1px rgba(60, 64, 67, 0.15);\n",
              "      fill: #174EA6;\n",
              "    }\n",
              "\n",
              "    .colab-df-buttons div {\n",
              "      margin-bottom: 4px;\n",
              "    }\n",
              "\n",
              "    [theme=dark] .colab-df-convert {\n",
              "      background-color: #3B4455;\n",
              "      fill: #D2E3FC;\n",
              "    }\n",
              "\n",
              "    [theme=dark] .colab-df-convert:hover {\n",
              "      background-color: #434B5C;\n",
              "      box-shadow: 0px 1px 3px 1px rgba(0, 0, 0, 0.15);\n",
              "      filter: drop-shadow(0px 1px 2px rgba(0, 0, 0, 0.3));\n",
              "      fill: #FFFFFF;\n",
              "    }\n",
              "  </style>\n",
              "\n",
              "    <script>\n",
              "      const buttonEl =\n",
              "        document.querySelector('#df-d552de94-8b0e-4ab9-98af-fd932558f663 button.colab-df-convert');\n",
              "      buttonEl.style.display =\n",
              "        google.colab.kernel.accessAllowed ? 'block' : 'none';\n",
              "\n",
              "      async function convertToInteractive(key) {\n",
              "        const element = document.querySelector('#df-d552de94-8b0e-4ab9-98af-fd932558f663');\n",
              "        const dataTable =\n",
              "          await google.colab.kernel.invokeFunction('convertToInteractive',\n",
              "                                                    [key], {});\n",
              "        if (!dataTable) return;\n",
              "\n",
              "        const docLinkHtml = 'Like what you see? Visit the ' +\n",
              "          '<a target=\"_blank\" href=https://colab.research.google.com/notebooks/data_table.ipynb>data table notebook</a>'\n",
              "          + ' to learn more about interactive tables.';\n",
              "        element.innerHTML = '';\n",
              "        dataTable['output_type'] = 'display_data';\n",
              "        await google.colab.output.renderOutput(dataTable, element);\n",
              "        const docLink = document.createElement('div');\n",
              "        docLink.innerHTML = docLinkHtml;\n",
              "        element.appendChild(docLink);\n",
              "      }\n",
              "    </script>\n",
              "  </div>\n",
              "\n",
              "\n",
              "<div id=\"df-1db9a13d-ed7a-4cad-8a43-92972554f8a1\">\n",
              "  <button class=\"colab-df-quickchart\" onclick=\"quickchart('df-1db9a13d-ed7a-4cad-8a43-92972554f8a1')\"\n",
              "            title=\"Suggest charts\"\n",
              "            style=\"display:none;\">\n",
              "\n",
              "<svg xmlns=\"http://www.w3.org/2000/svg\" height=\"24px\"viewBox=\"0 0 24 24\"\n",
              "     width=\"24px\">\n",
              "    <g>\n",
              "        <path d=\"M19 3H5c-1.1 0-2 .9-2 2v14c0 1.1.9 2 2 2h14c1.1 0 2-.9 2-2V5c0-1.1-.9-2-2-2zM9 17H7v-7h2v7zm4 0h-2V7h2v10zm4 0h-2v-4h2v4z\"/>\n",
              "    </g>\n",
              "</svg>\n",
              "  </button>\n",
              "\n",
              "<style>\n",
              "  .colab-df-quickchart {\n",
              "      --bg-color: #E8F0FE;\n",
              "      --fill-color: #1967D2;\n",
              "      --hover-bg-color: #E2EBFA;\n",
              "      --hover-fill-color: #174EA6;\n",
              "      --disabled-fill-color: #AAA;\n",
              "      --disabled-bg-color: #DDD;\n",
              "  }\n",
              "\n",
              "  [theme=dark] .colab-df-quickchart {\n",
              "      --bg-color: #3B4455;\n",
              "      --fill-color: #D2E3FC;\n",
              "      --hover-bg-color: #434B5C;\n",
              "      --hover-fill-color: #FFFFFF;\n",
              "      --disabled-bg-color: #3B4455;\n",
              "      --disabled-fill-color: #666;\n",
              "  }\n",
              "\n",
              "  .colab-df-quickchart {\n",
              "    background-color: var(--bg-color);\n",
              "    border: none;\n",
              "    border-radius: 50%;\n",
              "    cursor: pointer;\n",
              "    display: none;\n",
              "    fill: var(--fill-color);\n",
              "    height: 32px;\n",
              "    padding: 0;\n",
              "    width: 32px;\n",
              "  }\n",
              "\n",
              "  .colab-df-quickchart:hover {\n",
              "    background-color: var(--hover-bg-color);\n",
              "    box-shadow: 0 1px 2px rgba(60, 64, 67, 0.3), 0 1px 3px 1px rgba(60, 64, 67, 0.15);\n",
              "    fill: var(--button-hover-fill-color);\n",
              "  }\n",
              "\n",
              "  .colab-df-quickchart-complete:disabled,\n",
              "  .colab-df-quickchart-complete:disabled:hover {\n",
              "    background-color: var(--disabled-bg-color);\n",
              "    fill: var(--disabled-fill-color);\n",
              "    box-shadow: none;\n",
              "  }\n",
              "\n",
              "  .colab-df-spinner {\n",
              "    border: 2px solid var(--fill-color);\n",
              "    border-color: transparent;\n",
              "    border-bottom-color: var(--fill-color);\n",
              "    animation:\n",
              "      spin 1s steps(1) infinite;\n",
              "  }\n",
              "\n",
              "  @keyframes spin {\n",
              "    0% {\n",
              "      border-color: transparent;\n",
              "      border-bottom-color: var(--fill-color);\n",
              "      border-left-color: var(--fill-color);\n",
              "    }\n",
              "    20% {\n",
              "      border-color: transparent;\n",
              "      border-left-color: var(--fill-color);\n",
              "      border-top-color: var(--fill-color);\n",
              "    }\n",
              "    30% {\n",
              "      border-color: transparent;\n",
              "      border-left-color: var(--fill-color);\n",
              "      border-top-color: var(--fill-color);\n",
              "      border-right-color: var(--fill-color);\n",
              "    }\n",
              "    40% {\n",
              "      border-color: transparent;\n",
              "      border-right-color: var(--fill-color);\n",
              "      border-top-color: var(--fill-color);\n",
              "    }\n",
              "    60% {\n",
              "      border-color: transparent;\n",
              "      border-right-color: var(--fill-color);\n",
              "    }\n",
              "    80% {\n",
              "      border-color: transparent;\n",
              "      border-right-color: var(--fill-color);\n",
              "      border-bottom-color: var(--fill-color);\n",
              "    }\n",
              "    90% {\n",
              "      border-color: transparent;\n",
              "      border-bottom-color: var(--fill-color);\n",
              "    }\n",
              "  }\n",
              "</style>\n",
              "\n",
              "  <script>\n",
              "    async function quickchart(key) {\n",
              "      const quickchartButtonEl =\n",
              "        document.querySelector('#' + key + ' button');\n",
              "      quickchartButtonEl.disabled = true;  // To prevent multiple clicks.\n",
              "      quickchartButtonEl.classList.add('colab-df-spinner');\n",
              "      try {\n",
              "        const charts = await google.colab.kernel.invokeFunction(\n",
              "            'suggestCharts', [key], {});\n",
              "      } catch (error) {\n",
              "        console.error('Error during call to suggestCharts:', error);\n",
              "      }\n",
              "      quickchartButtonEl.classList.remove('colab-df-spinner');\n",
              "      quickchartButtonEl.classList.add('colab-df-quickchart-complete');\n",
              "    }\n",
              "    (() => {\n",
              "      let quickchartButtonEl =\n",
              "        document.querySelector('#df-1db9a13d-ed7a-4cad-8a43-92972554f8a1 button');\n",
              "      quickchartButtonEl.style.display =\n",
              "        google.colab.kernel.accessAllowed ? 'block' : 'none';\n",
              "    })();\n",
              "  </script>\n",
              "</div>\n",
              "\n",
              "    </div>\n",
              "  </div>\n"
            ],
            "application/vnd.google.colaboratory.intrinsic+json": {
              "type": "dataframe",
              "summary": "{\n  \"name\": \"df\",\n  \"rows\": 4146,\n  \"fields\": [\n    {\n      \"column\": \"Review_Title\",\n      \"properties\": {\n        \"dtype\": \"string\",\n        \"num_unique_values\": 2825,\n        \"samples\": [\n          \"GREAT SKIN EXFOLIANT\",\n          \"My Favorite Face Wash\",\n          \"Not sure yet.\"\n        ],\n        \"semantic_type\": \"\",\n        \"description\": \"\"\n      }\n    },\n    {\n      \"column\": \"Review_Text\",\n      \"properties\": {\n        \"dtype\": \"string\",\n        \"num_unique_values\": 3616,\n        \"samples\": [\n          \"love sustain refil great product love sale\",\n          \"use cleanser okay dri skin exactli moistur either solut feel bit wateri think purchas\",\n          \"struggl lot find product work reduc acn abl exfoli everi morn even main fix problem help heavili reduc acn pore size damag skin also extrem appreci sustain refil reus larg travel bottl hope way concept incorpor product\"\n        ],\n        \"semantic_type\": \"\",\n        \"description\": \"\"\n      }\n    },\n    {\n      \"column\": \"Verified_Buyer\",\n      \"properties\": {\n        \"dtype\": \"category\",\n        \"num_unique_values\": 2,\n        \"samples\": [\n          \"Yes\",\n          \"No\"\n        ],\n        \"semantic_type\": \"\",\n        \"description\": \"\"\n      }\n    },\n    {\n      \"column\": \"Review_Date\",\n      \"properties\": {\n        \"dtype\": \"category\",\n        \"num_unique_values\": 41,\n        \"samples\": [\n          \"7 days ago\",\n          \"2 years ago\"\n        ],\n        \"semantic_type\": \"\",\n        \"description\": \"\"\n      }\n    },\n    {\n      \"column\": \"Review_Location\",\n      \"properties\": {\n        \"dtype\": \"category\",\n        \"num_unique_values\": 1423,\n        \"samples\": [\n          \"St Petersburg Florida\",\n          \"Medford Oregon\"\n        ],\n        \"semantic_type\": \"\",\n        \"description\": \"\"\n      }\n    },\n    {\n      \"column\": \"Review_Upvotes\",\n      \"properties\": {\n        \"dtype\": \"number\",\n        \"std\": 2,\n        \"min\": 0,\n        \"max\": 84,\n        \"num_unique_values\": 23,\n        \"samples\": [\n          17,\n          11\n        ],\n        \"semantic_type\": \"\",\n        \"description\": \"\"\n      }\n    },\n    {\n      \"column\": \"Review_Downvotes\",\n      \"properties\": {\n        \"dtype\": \"number\",\n        \"std\": 0,\n        \"min\": 0,\n        \"max\": 35,\n        \"num_unique_values\": 15,\n        \"samples\": [\n          8,\n          13\n        ],\n        \"semantic_type\": \"\",\n        \"description\": \"\"\n      }\n    },\n    {\n      \"column\": \"Product\",\n      \"properties\": {\n        \"dtype\": \"category\",\n        \"num_unique_values\": 4,\n        \"samples\": [\n          \"Hydro Masque Exfoliant\",\n          \"Daily Microfoliant\"\n        ],\n        \"semantic_type\": \"\",\n        \"description\": \"\"\n      }\n    },\n    {\n      \"column\": \"Brand\",\n      \"properties\": {\n        \"dtype\": \"category\",\n        \"num_unique_values\": 1,\n        \"samples\": [\n          \"Dermalogica\"\n        ],\n        \"semantic_type\": \"\",\n        \"description\": \"\"\n      }\n    },\n    {\n      \"column\": \"Scrape_Date\",\n      \"properties\": {\n        \"dtype\": \"object\",\n        \"num_unique_values\": 1,\n        \"samples\": [\n          \"3/27/23\"\n        ],\n        \"semantic_type\": \"\",\n        \"description\": \"\"\n      }\n    },\n    {\n      \"column\": \"score\",\n      \"properties\": {\n        \"dtype\": \"number\",\n        \"std\": 0.363657828014535,\n        \"min\": -0.8582,\n        \"max\": 0.9947,\n        \"num_unique_values\": 502,\n        \"samples\": [\n          0.9463\n        ],\n        \"semantic_type\": \"\",\n        \"description\": \"\"\n      }\n    },\n    {\n      \"column\": \"sentiment\",\n      \"properties\": {\n        \"dtype\": \"number\",\n        \"std\": 0,\n        \"min\": 0,\n        \"max\": 1,\n        \"num_unique_values\": 2,\n        \"samples\": [\n          0\n        ],\n        \"semantic_type\": \"\",\n        \"description\": \"\"\n      }\n    }\n  ]\n}"
            }
          },
          "metadata": {},
          "execution_count": 20
        }
      ]
    },
    {
      "cell_type": "code",
      "source": [
        "df['Review_Text'] = df['Review_Text'].astype(str)\n",
        "df['Review_Text'] = df['Review_Text'].apply(lambda x: x.lower())\n",
        "df['Review_Text'] = df['Review_Text'].apply(lambda x: re.sub('[^a-zA-Z0-9]', ' ', x))\n",
        "df['Review_Text'] = df['Review_Text'].apply(lambda x: word_tokenize(x))\n",
        "df['Review_Text'] = df['Review_Text'].apply(lambda x: [word for word in x if word not in stopwords.words('english')])\n",
        "\n",
        "ps = PorterStemmer()\n",
        "df['Review_Text'] = df['Review_Text'].apply(lambda x: [ps.stem(y) for y in x])\n",
        "df['Review_Text'] = df['Review_Text'].apply(lambda x: ' '.join(x))\n"
      ],
      "metadata": {
        "id": "K0JAEf8MoR-v"
      },
      "execution_count": 6,
      "outputs": []
    },
    {
      "cell_type": "code",
      "source": [
        "!pip install vaderSentiment\n",
        "from vaderSentiment.vaderSentiment import SentimentIntensityAnalyzer\n",
        "nltk.download('vader_lexicon')\n",
        "sia = SentimentIntensityAnalyzer()\n",
        "df['score'] = df['Review_Text'].apply(lambda x: sia.polarity_scores(x)['compound'])\n",
        "df['sentiment'] = df['score'].apply(lambda x: 1 if x > 0 else 0)\n"
      ],
      "metadata": {
        "colab": {
          "base_uri": "https://localhost:8080/"
        },
        "id": "awk1219Sojqs",
        "outputId": "98507ef0-7e03-4a96-ceec-072e1724beed"
      },
      "execution_count": 8,
      "outputs": [
        {
          "output_type": "stream",
          "name": "stdout",
          "text": [
            "Collecting vaderSentiment\n",
            "  Downloading vaderSentiment-3.3.2-py2.py3-none-any.whl (125 kB)\n",
            "\u001b[2K     \u001b[90m━━━━━━━━━━━━━━━━━━━━━━━━━━━━━━━━━━━━━━━━\u001b[0m \u001b[32m126.0/126.0 kB\u001b[0m \u001b[31m3.6 MB/s\u001b[0m eta \u001b[36m0:00:00\u001b[0m\n",
            "\u001b[?25hRequirement already satisfied: requests in /usr/local/lib/python3.10/dist-packages (from vaderSentiment) (2.31.0)\n",
            "Requirement already satisfied: charset-normalizer<4,>=2 in /usr/local/lib/python3.10/dist-packages (from requests->vaderSentiment) (3.3.2)\n",
            "Requirement already satisfied: idna<4,>=2.5 in /usr/local/lib/python3.10/dist-packages (from requests->vaderSentiment) (3.7)\n",
            "Requirement already satisfied: urllib3<3,>=1.21.1 in /usr/local/lib/python3.10/dist-packages (from requests->vaderSentiment) (2.0.7)\n",
            "Requirement already satisfied: certifi>=2017.4.17 in /usr/local/lib/python3.10/dist-packages (from requests->vaderSentiment) (2024.7.4)\n",
            "Installing collected packages: vaderSentiment\n",
            "Successfully installed vaderSentiment-3.3.2\n"
          ]
        },
        {
          "output_type": "stream",
          "name": "stderr",
          "text": [
            "[nltk_data] Downloading package vader_lexicon to /root/nltk_data...\n"
          ]
        }
      ]
    },
    {
      "cell_type": "code",
      "source": [
        "print(df['sentiment'].value_counts())"
      ],
      "metadata": {
        "colab": {
          "base_uri": "https://localhost:8080/"
        },
        "id": "j7WW8ZTHoVam",
        "outputId": "c97d1beb-a67b-40f4-e870-e32a6e9694af"
      },
      "execution_count": 9,
      "outputs": [
        {
          "output_type": "stream",
          "name": "stdout",
          "text": [
            "sentiment\n",
            "1    3506\n",
            "0     641\n",
            "Name: count, dtype: int64\n"
          ]
        }
      ]
    },
    {
      "cell_type": "code",
      "source": [
        "X = df['Review_Text']\n",
        "y = df['sentiment']\n",
        "cv = TfidfVectorizer()\n",
        "X = cv.fit_transform(X)"
      ],
      "metadata": {
        "id": "T62974EEovfD"
      },
      "execution_count": 10,
      "outputs": []
    },
    {
      "cell_type": "code",
      "source": [
        "sm = SMOTE(random_state=42)\n",
        "X_res, y_res = sm.fit_resample(X, y)\n"
      ],
      "metadata": {
        "id": "guEgNR52owiS"
      },
      "execution_count": 11,
      "outputs": []
    },
    {
      "cell_type": "code",
      "source": [
        "x_train, x_test, y_train, y_test = train_test_split(X_res, y_res, test_size=0.30, random_state=42)\n"
      ],
      "metadata": {
        "id": "HVM5XTEjo1Nb"
      },
      "execution_count": 12,
      "outputs": []
    },
    {
      "cell_type": "code",
      "source": [
        "model = MultinomialNB()\n",
        "model.fit(x_train, y_train)\n",
        "y_pred = model.predict(x_test)"
      ],
      "metadata": {
        "id": "NA8Iifxeo5r5"
      },
      "execution_count": 13,
      "outputs": []
    },
    {
      "cell_type": "code",
      "source": [
        "precision = precision_score(y_test, y_pred, average='macro')\n",
        "print(f\"MultinomialNB Precision: {precision}\")\n",
        "print(classification_report(y_test, y_pred))"
      ],
      "metadata": {
        "colab": {
          "base_uri": "https://localhost:8080/"
        },
        "id": "l2X1ZVO7o6wW",
        "outputId": "29ee608d-b270-4693-96c1-b131849ea316"
      },
      "execution_count": 14,
      "outputs": [
        {
          "output_type": "stream",
          "name": "stdout",
          "text": [
            "MultinomialNB Precision: 0.8731802244274209\n",
            "              precision    recall  f1-score   support\n",
            "\n",
            "           0       0.96      0.73      0.83      1057\n",
            "           1       0.78      0.97      0.87      1047\n",
            "\n",
            "    accuracy                           0.85      2104\n",
            "   macro avg       0.87      0.85      0.85      2104\n",
            "weighted avg       0.87      0.85      0.85      2104\n",
            "\n"
          ]
        }
      ]
    },
    {
      "cell_type": "code",
      "source": [
        "cm = confusion_matrix(y_test, y_pred)\n",
        "print(cm)\n",
        "\n",
        "plt.matshow(cm, cmap=plt.cm.Purples)\n",
        "plt.colorbar()\n",
        "plt.ylabel('Actual Values', fontsize=15)\n",
        "plt.xlabel('Predicted Values', fontsize=15)\n",
        "plt.title('Confusion Matrix for MultinomialNB')\n",
        "plt.show()"
      ],
      "metadata": {
        "colab": {
          "base_uri": "https://localhost:8080/",
          "height": 452
        },
        "id": "S_yjaEc3pABY",
        "outputId": "f8f886a0-b942-4af1-aee8-5a4d5ce94be0"
      },
      "execution_count": 15,
      "outputs": [
        {
          "output_type": "stream",
          "name": "stdout",
          "text": [
            "[[ 774  283]\n",
            " [  29 1018]]\n"
          ]
        },
        {
          "output_type": "display_data",
          "data": {
            "text/plain": [
              "<Figure size 480x480 with 2 Axes>"
            ],
            "image/png": "[encoded data removed]"
          },
          "metadata": {}
        }
      ]
    },
    {
      "cell_type": "code",
      "source": [
        "y_proba = model.predict_proba(x_test)\n",
        "fpr, tpr, _ = roc_curve(y_test, y_proba[:, 1], pos_label=model.classes_[1])\n",
        "roc_auc = auc(fpr, tpr)\n",
        "\n",
        "plt.figure()\n",
        "plt.plot(fpr, tpr, color='darkorange', lw=2, label=f'ROC curve (area = {roc_auc:0.2f})')\n",
        "plt.plot([0, 1], [0, 1], color='navy', lw=2, linestyle='--')\n",
        "plt.xlim([0.0, 1.0])\n",
        "plt.ylim([0.0, 1.05])\n",
        "plt.xlabel('False Positive Rate')\n",
        "plt.ylabel('True Positive Rate')\n",
        "plt.title('Receiver Operating Characteristic')\n",
        "plt.legend(loc=\"lower right\")\n",
        "plt.show()"
      ],
      "metadata": {
        "colab": {
          "base_uri": "https://localhost:8080/",
          "height": 472
        },
        "id": "7HY8BHnGpBsZ",
        "outputId": "81d5c9da-b8d4-4614-cb9b-64970efa6dcd"
      },
      "execution_count": 16,
      "outputs": [
        {
          "output_type": "display_data",
          "data": {
            "text/plain": [
              "<Figure size 640x480 with 1 Axes>"
            ],
            "image/png": "[encoded data removed]"
          },
          "metadata": {}
        }
      ]
    }
  ]
}